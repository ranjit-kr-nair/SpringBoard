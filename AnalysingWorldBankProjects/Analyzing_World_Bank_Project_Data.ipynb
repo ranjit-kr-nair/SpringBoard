{
 "cells": [
  {
   "cell_type": "markdown",
   "metadata": {},
   "source": [
    "# JSON examples and exercise\n",
    "****\n",
    "+ get familiar with packages for dealing with JSON\n",
    "+ study examples with JSON strings and files \n",
    "+ work on exercise to be completed and submitted \n",
    "****\n",
    "+ reference: http://pandas.pydata.org/pandas-docs/stable/io.html#io-json-reader\n",
    "+ data source: http://jsonstudio.com/resources/\n",
    "****"
   ]
  },
  {
   "cell_type": "markdown",
   "metadata": {},
   "source": [
    "****\n",
    "## JSON exercise\n",
    "\n",
    "Using data in file 'data/world_bank_projects.json' and the techniques demonstrated above,\n",
    "1. Find the 10 countries with most projects\n",
    "2. Find the top 10 major project themes (using column 'mjtheme_namecode')\n",
    "3. In 2. above you will notice that some entries have only the code and the name is missing. Create a dataframe with the missing names filled in."
   ]
  },
  {
   "cell_type": "markdown",
   "metadata": {},
   "source": [
    "### Importing necessary lbraries."
   ]
  },
  {
   "cell_type": "code",
   "execution_count": 1,
   "metadata": {},
   "outputs": [],
   "source": [
    "import pandas as pd\n",
    "from collections import defaultdict"
   ]
  },
  {
   "cell_type": "markdown",
   "metadata": {},
   "source": [
    "### Reading World Bank JSON File as a Pandas DataFrame"
   ]
  },
  {
   "cell_type": "code",
   "execution_count": 2,
   "metadata": {
    "scrolled": true
   },
   "outputs": [],
   "source": [
    "path = 'data/world_bank_projects.json'\n",
    "\n",
    "df = pd.read_json( path )"
   ]
  },
  {
   "cell_type": "markdown",
   "metadata": {},
   "source": [
    "### Displaying the top 10 countries with World Bank Projects"
   ]
  },
  {
   "cell_type": "code",
   "execution_count": 3,
   "metadata": {
    "scrolled": false
   },
   "outputs": [
    {
     "data": {
      "text/plain": [
       "Republic of Indonesia              19\n",
       "People's Republic of China         19\n",
       "Socialist Republic of Vietnam      17\n",
       "Republic of India                  16\n",
       "Republic of Yemen                  13\n",
       "Kingdom of Morocco                 12\n",
       "People's Republic of Bangladesh    12\n",
       "Nepal                              12\n",
       "Republic of Mozambique             11\n",
       "Africa                             11\n",
       "Name: countryname, dtype: int64"
      ]
     },
     "execution_count": 3,
     "metadata": {},
     "output_type": "execute_result"
    }
   ],
   "source": [
    "df.countryname.value_counts()[:10]"
   ]
  },
  {
   "cell_type": "markdown",
   "metadata": {},
   "source": [
    "### Creating a dictionary of all major project themes along with their code as the key."
   ]
  },
  {
   "cell_type": "code",
   "execution_count": 4,
   "metadata": {},
   "outputs": [],
   "source": [
    "project_code_names = defaultdict(str)\n",
    "\n",
    "for x in df.mjtheme_namecode:\n",
    "    for y in x:\n",
    "        if y['name'] != \"\":\n",
    "            project_code_names[y[\"code\"]] = y[\"name\"]\n",
    "            \n",
    " "
   ]
  },
  {
   "cell_type": "markdown",
   "metadata": {},
   "source": [
    "### Filling in the missing values for project theme names using the dictionary created above"
   ]
  },
  {
   "cell_type": "code",
   "execution_count": 5,
   "metadata": {},
   "outputs": [],
   "source": [
    "for i, x in enumerate(df.mjtheme_namecode):\n",
    "    for j, y in enumerate(x):\n",
    "        if y['name'] == \"\":\n",
    "            df.mjtheme_namecode[i][j][\"name\"] = project_code_names[y[\"code\"]] "
   ]
  },
  {
   "cell_type": "markdown",
   "metadata": {},
   "source": [
    "### Counting the major themes in the DataFrame and storing the result in a Dictionary"
   ]
  },
  {
   "cell_type": "code",
   "execution_count": 6,
   "metadata": {},
   "outputs": [],
   "source": [
    "count = defaultdict(int)\n",
    "\n",
    "for x in df.mjtheme_namecode:\n",
    "    for y in x:\n",
    "        for key, value in y.items():\n",
    "            if key == \"name\":\n",
    "                count[value] += 1"
   ]
  },
  {
   "cell_type": "markdown",
   "metadata": {},
   "source": [
    "### Making a sorted copy of the dictionary created above using its value as the key for sorting"
   ]
  },
  {
   "cell_type": "code",
   "execution_count": 7,
   "metadata": {},
   "outputs": [],
   "source": [
    "sorted_themes = { k:v for k, v in sorted(count.items(), key=lambda num: num[1], reverse=True) }"
   ]
  },
  {
   "cell_type": "markdown",
   "metadata": {},
   "source": [
    "### Displaying the top 10 major Project Themes"
   ]
  },
  {
   "cell_type": "code",
   "execution_count": 8,
   "metadata": {},
   "outputs": [
    {
     "name": "stdout",
     "output_type": "stream",
     "text": [
      "('Environment and natural resources management', 250)\n",
      "('Rural development', 216)\n",
      "('Human development', 210)\n",
      "('Public sector governance', 199)\n",
      "('Social protection and risk management', 168)\n",
      "('Financial and private sector development', 146)\n",
      "('Social dev/gender/inclusion', 130)\n",
      "('Trade and integration', 77)\n",
      "('Urban development', 50)\n",
      "('Economic management', 38)\n"
     ]
    }
   ],
   "source": [
    "for i, theme in enumerate(sorted_themes.items()):\n",
    "    if i < 10:\n",
    "        print( theme  )"
   ]
  }
 ],
 "metadata": {
  "kernelspec": {
   "display_name": "Python 3",
   "language": "python",
   "name": "python3"
  },
  "language_info": {
   "codemirror_mode": {
    "name": "ipython",
    "version": 3
   },
   "file_extension": ".py",
   "mimetype": "text/x-python",
   "name": "python",
   "nbconvert_exporter": "python",
   "pygments_lexer": "ipython3",
   "version": "3.7.6"
  }
 },
 "nbformat": 4,
 "nbformat_minor": 1
}
